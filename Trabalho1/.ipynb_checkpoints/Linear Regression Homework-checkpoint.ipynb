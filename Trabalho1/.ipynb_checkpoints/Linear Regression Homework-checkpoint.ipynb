{
 "cells": [
  {
   "cell_type": "markdown",
   "metadata": {},
   "source": [
    "Regressão Linear!"
   ]
  },
  {
   "cell_type": "markdown",
   "metadata": {
    "collapsed": true
   },
   "source": [
    "Importamos as bibliotecas necessárias"
   ]
  },
  {
   "cell_type": "code",
   "execution_count": 307,
   "metadata": {
    "collapsed": true
   },
   "outputs": [],
   "source": [
    "import matplotlib.pyplot as plt #Matplotlib\n",
    "import math #Funcoes matematicas\n",
    "import random #Numeros Aleatorios\n",
    "import numpy as np # Numeric Python\n",
    "import sklearn #Modelos Lineares\n",
    "from sklearn.metrics import mean_squared_error, r2_score #Metricas de erro"
   ]
  },
  {
   "cell_type": "markdown",
   "metadata": {},
   "source": [
    "Carregar todos os dados de treinamento"
   ]
  },
  {
   "cell_type": "code",
   "execution_count": null,
   "metadata": {},
   "outputs": [],
   "source": [
    "arquivo = \"../../Databases/year-prediction-msd-train.txt\"\n",
    "dados = np.genfromtxt(fname=arquivo,delimiter=',')"
   ]
  },
  {
   "cell_type": "code",
   "execution_count": 54,
   "metadata": {},
   "outputs": [
    {
     "name": "stdout",
     "output_type": "stream",
     "text": [
      "10\n",
      "90\n"
     ]
    }
   ],
   "source": [
    "numero_dados = dados.shape[0]\n",
    "numero_features = dados.shape[1]-1\n",
    "print(numero_dados)\n",
    "print(numero_features)"
   ]
  },
  {
   "cell_type": "code",
   "execution_count": 55,
   "metadata": {},
   "outputs": [],
   "source": [
    "#Normaliza os dados num intervalo com média 0 e desvio padrão 1\n",
    "def normalizar_dados(data):\n",
    "    data_norm = data\n",
    "    numero_features = data.shape[1]-1\n",
    "    for feature_index in range(numero_features):\n",
    "        media = np.mean(data[:,feature_index+1])\n",
    "        desvio = np.std(data[:,feature_index+1])\n",
    "        data_norm[:,feature_index+1] = (data_norm[:,feature_index+1] - media)/desvio\n",
    "    return data_norm"
   ]
  },
  {
   "cell_type": "code",
   "execution_count": 299,
   "metadata": {},
   "outputs": [],
   "source": [
    "dados_norm = normalizar_dados(data=dados)"
   ]
  },
  {
   "cell_type": "markdown",
   "metadata": {},
   "source": [
    "Separando o conjunto de treinamento em treinamento e validação, selecionando elementos aleatórios"
   ]
  },
  {
   "cell_type": "code",
   "execution_count": 201,
   "metadata": {
    "collapsed": true
   },
   "outputs": [],
   "source": [
    "porcentagem_validacao=0.20"
   ]
  },
  {
   "cell_type": "code",
   "execution_count": 216,
   "metadata": {},
   "outputs": [],
   "source": [
    "numero_dados_validacao = numero_dados * porcentagem_validacao\n",
    "numero_dados_treinamento = numero_dados - numero_dados_validacao\n"
   ]
  },
  {
   "cell_type": "code",
   "execution_count": 300,
   "metadata": {},
   "outputs": [],
   "source": [
    "conjunto_validacao = []\n",
    "conjunto_treinamento = []\n",
    "for i in range(0,int(numero_dados_validacao)):\n",
    "    index = (random.randrange(0,len(dados_norm)))\n",
    "    elemento = dados_norm[index]\n",
    "    dados_norm = np.delete(dados_norm,index,0)\n",
    "    conjunto_validacao.append(elemento)\n",
    "conjunto_treinamento = dados_norm\n",
    "conjunto_validacao = np.asarray(conjunto_validacao)"
   ]
  },
  {
   "cell_type": "markdown",
   "metadata": {},
   "source": [
    "Separando as anotações das features"
   ]
  },
  {
   "cell_type": "code",
   "execution_count": 275,
   "metadata": {},
   "outputs": [],
   "source": [
    "x_treinamento = conjunto_treinamento[:,0] #Ano da musica (Treinamento)"
   ]
  },
  {
   "cell_type": "code",
   "execution_count": 270,
   "metadata": {},
   "outputs": [],
   "source": [
    "y_treinamento = conjunto_treinamento [:,1:numero_features+1] #Features da musica (Treinamento)"
   ]
  },
  {
   "cell_type": "code",
   "execution_count": 302,
   "metadata": {},
   "outputs": [],
   "source": [
    "x_validacao = conjunto_validacao[:,0] #Ano da musica (Validação)"
   ]
  },
  {
   "cell_type": "code",
   "execution_count": 303,
   "metadata": {},
   "outputs": [],
   "source": [
    "y_validacao = conjunto_validacao[:,1:numero_features+1]#Features da musica (Validação)"
   ]
  },
  {
   "cell_type": "markdown",
   "metadata": {},
   "source": [
    "Criamos o objeto para realizar a regressão linear (Usamos klearn)"
   ]
  },
  {
   "cell_type": "code",
   "execution_count": 309,
   "metadata": {
    "collapsed": true
   },
   "outputs": [],
   "source": [
    "regressao = sklearn.linear_model.LinearRegression()"
   ]
  },
  {
   "cell_type": "code",
   "execution_count": 312,
   "metadata": {},
   "outputs": [
    {
     "data": {
      "text/plain": [
       "LinearRegression(copy_X=True, fit_intercept=True, n_jobs=1, normalize=False)"
      ]
     },
     "execution_count": 312,
     "metadata": {},
     "output_type": "execute_result"
    }
   ],
   "source": [
    "regressao.fit(y_treinamento,x_treinamento)"
   ]
  },
  {
   "cell_type": "code",
   "execution_count": 315,
   "metadata": {},
   "outputs": [],
   "source": [
    "resultado = regressao.predict(y_validacao)"
   ]
  },
  {
   "cell_type": "markdown",
   "metadata": {},
   "source": [
    "Apresentação de Resultados"
   ]
  },
  {
   "cell_type": "code",
   "execution_count": 316,
   "metadata": {},
   "outputs": [
    {
     "name": "stdout",
     "output_type": "stream",
     "text": [
      "Coeficientes:\n",
      " [ 0.0076954  -0.30602959  0.36420672 -0.06827263  0.46921402 -0.10254367\n",
      " -0.01410254  0.26539172  0.13458839 -0.30044083  0.1277007   0.1572465\n",
      "  0.4118133   0.33247026  0.08848784  0.18554998  0.3470075   0.14661582\n",
      " -0.03727927  0.28158576  0.44233469  0.37741816 -0.00962367  0.14607872\n",
      "  0.27844486  0.06956693  0.48831688  0.52301743 -0.47051004 -0.40023158\n",
      "  0.08248835 -0.00330214 -0.04775654 -0.45467818 -0.16946951 -0.13274844\n",
      " -0.1925116  -0.12444731 -0.18958948 -0.33823875 -0.23834952 -0.13629823\n",
      "  0.12586447  0.13700508 -0.28318391  0.28529416  0.07305741  0.20841163\n",
      " -0.16181364 -0.02267925 -0.35221951 -0.05507057  0.19601415  0.01586799\n",
      " -0.29974634  0.05685602 -0.51085247 -0.16108941  0.03632506  0.01271878\n",
      "  0.28883097 -0.03213427 -0.1951736  -0.10544954 -0.01022672  0.03573847\n",
      "  0.06413713 -0.32756979 -0.38863636  0.02913533 -0.20044965  0.29210394\n",
      " -0.16214316  0.24482911  0.02215221 -0.12265367  0.01565811  0.42707156\n",
      " -0.42895051 -0.25098464  0.35497562 -0.19521196  0.57335373 -0.44036509\n",
      "  0.31160479  0.3398366   0.34091706  0.52403479  0.42784233  0.32302564]\n",
      "Mean squared error: 29.99\n"
     ]
    }
   ],
   "source": [
    "print(\"Coeficientes:\\n\",regressao.coef_)\n",
    "print(\"Mean squared error: %.2f\" % mean_squared_error(x_validacao,resultado))"
   ]
  },
  {
   "cell_type": "code",
   "execution_count": 327,
   "metadata": {},
   "outputs": [
    {
     "data": {
      "text/plain": [
       "1997.2547174097583"
      ]
     },
     "execution_count": 327,
     "metadata": {},
     "output_type": "execute_result"
    }
   ],
   "source": []
  }
 ],
 "metadata": {
  "kernelspec": {
   "display_name": "Python 3",
   "language": "python",
   "name": "python3"
  },
  "language_info": {
   "codemirror_mode": {
    "name": "ipython",
    "version": 3
   },
   "file_extension": ".py",
   "mimetype": "text/x-python",
   "name": "python",
   "nbconvert_exporter": "python",
   "pygments_lexer": "ipython3",
   "version": "3.6.2"
  }
 },
 "nbformat": 4,
 "nbformat_minor": 2
}
