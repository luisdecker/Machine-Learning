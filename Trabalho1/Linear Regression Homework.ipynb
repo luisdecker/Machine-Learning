{
 "cells": [
  {
   "cell_type": "markdown",
   "metadata": {},
   "source": [
    "Regressão Linear!"
   ]
  },
  {
   "cell_type": "markdown",
   "metadata": {
    "collapsed": true
   },
   "source": [
    "Importamos as bibliotecas necessárias"
   ]
  },
  {
   "cell_type": "code",
   "execution_count": 19,
   "metadata": {},
   "outputs": [
    {
     "name": "stdout",
     "output_type": "stream",
     "text": [
      "['/usr/lib/python3.6/site-packages/sklearn']\n"
     ]
    }
   ],
   "source": [
    "print (sklearn.__path__)"
   ]
  },
  {
   "cell_type": "code",
   "execution_count": 20,
   "metadata": {
    "collapsed": true
   },
   "outputs": [],
   "source": [
    "import matplotlib.pyplot as plt #Matplotlib\n",
    "import math #Funcoes matematicas\n",
    "import random #Numeros Aleatorios\n",
    "import numpy as np # Numeric Python\n",
    "from sklearn import linear_model#Modelos Lineares\n",
    "from sklearn.metrics import mean_squared_error, r2_score #Metricas de erro"
   ]
  },
  {
   "cell_type": "markdown",
   "metadata": {},
   "source": [
    "Carregar todos os dados de treinamento"
   ]
  },
  {
   "cell_type": "code",
   "execution_count": 2,
   "metadata": {
    "collapsed": true
   },
   "outputs": [],
   "source": [
    "arquivo = \"../../Databases/songs_training_subset_500.txt\"\n",
    "dados = np.genfromtxt(fname=arquivo,delimiter=',')"
   ]
  },
  {
   "cell_type": "code",
   "execution_count": 3,
   "metadata": {},
   "outputs": [
    {
     "name": "stdout",
     "output_type": "stream",
     "text": [
      "500\n",
      "90\n"
     ]
    }
   ],
   "source": [
    "numero_dados = dados.shape[0]\n",
    "numero_features = dados.shape[1]-1\n",
    "print(numero_dados)\n",
    "print(numero_features)"
   ]
  },
  {
   "cell_type": "code",
   "execution_count": 4,
   "metadata": {
    "collapsed": true,
    "scrolled": true
   },
   "outputs": [],
   "source": [
    "#Normaliza os dados num intervalo com média 0 e desvio padrão 1\n",
    "def normalizar_dados(data):\n",
    "    data_norm = data\n",
    "    numero_features = data.shape[1]-1\n",
    "    for feature_index in range(numero_features):\n",
    "        media = np.mean(data[:,feature_index+1])\n",
    "        desvio = np.std(data[:,feature_index+1])\n",
    "        data_norm[:,feature_index+1] = (data_norm[:,feature_index+1] - media)/desvio\n",
    "    return data_norm"
   ]
  },
  {
   "cell_type": "code",
   "execution_count": 5,
   "metadata": {
    "collapsed": true
   },
   "outputs": [],
   "source": [
    "dados_norm = normalizar_dados(data=dados)"
   ]
  },
  {
   "cell_type": "markdown",
   "metadata": {},
   "source": [
    "Separando o conjunto de treinamento em treinamento e validação, selecionando elementos aleatórios"
   ]
  },
  {
   "cell_type": "code",
   "execution_count": 6,
   "metadata": {
    "collapsed": true
   },
   "outputs": [],
   "source": [
    "porcentagem_validacao=0.20"
   ]
  },
  {
   "cell_type": "code",
   "execution_count": 7,
   "metadata": {
    "collapsed": true
   },
   "outputs": [],
   "source": [
    "numero_dados_validacao = numero_dados * porcentagem_validacao\n",
    "numero_dados_treinamento = numero_dados - numero_dados_validacao\n"
   ]
  },
  {
   "cell_type": "code",
   "execution_count": 8,
   "metadata": {},
   "outputs": [],
   "source": [
    "conjunto_validacao = []\n",
    "conjunto_treinamento = []\n",
    "for i in range(0,int(numero_dados_validacao)):\n",
    "    index = (random.randrange(0,len(dados_norm)))\n",
    "    elemento = dados_norm[index]\n",
    "    dados_norm = np.delete(dados_norm,index,0)\n",
    "    conjunto_validacao.append(elemento)\n",
    "conjunto_treinamento = dados_norm\n",
    "conjunto_validacao = np.asarray(conjunto_validacao)"
   ]
  },
  {
   "cell_type": "markdown",
   "metadata": {},
   "source": [
    "Separando as anotações das features"
   ]
  },
  {
   "cell_type": "code",
   "execution_count": 9,
   "metadata": {
    "collapsed": true
   },
   "outputs": [],
   "source": [
    "x_treinamento = conjunto_treinamento[:,0] #Ano da musica (Treinamento)"
   ]
  },
  {
   "cell_type": "code",
   "execution_count": 10,
   "metadata": {
    "collapsed": true
   },
   "outputs": [],
   "source": [
    "y_treinamento = conjunto_treinamento [:,1:numero_features+1] #Features da musica (Treinamento)"
   ]
  },
  {
   "cell_type": "code",
   "execution_count": 11,
   "metadata": {
    "collapsed": true
   },
   "outputs": [],
   "source": [
    "x_validacao = conjunto_validacao[:,0] #Ano da musica (Validação)"
   ]
  },
  {
   "cell_type": "code",
   "execution_count": 12,
   "metadata": {
    "collapsed": true
   },
   "outputs": [],
   "source": [
    "y_validacao = conjunto_validacao[:,1:numero_features+1]#Features da musica (Validação)"
   ]
  },
  {
   "cell_type": "markdown",
   "metadata": {},
   "source": [
    "Criamos o objeto para realizar a regressão linear (Usamos sklearn)"
   ]
  },
  {
   "cell_type": "code",
   "execution_count": 21,
   "metadata": {},
   "outputs": [],
   "source": [
    "regressao = sklearn.linear_model.LinearRegression()"
   ]
  },
  {
   "cell_type": "markdown",
   "metadata": {},
   "source": [
    "Treinamos esta regressão"
   ]
  },
  {
   "cell_type": "code",
   "execution_count": 22,
   "metadata": {},
   "outputs": [
    {
     "data": {
      "text/plain": [
       "LinearRegression(copy_X=True, fit_intercept=True, n_jobs=1, normalize=False)"
      ]
     },
     "execution_count": 22,
     "metadata": {},
     "output_type": "execute_result"
    }
   ],
   "source": [
    "regressao.fit(y_treinamento,x_treinamento)"
   ]
  },
  {
   "cell_type": "markdown",
   "metadata": {},
   "source": [
    "Predizemos para cada conjunto de features"
   ]
  },
  {
   "cell_type": "code",
   "execution_count": 23,
   "metadata": {
    "collapsed": true
   },
   "outputs": [],
   "source": [
    "resultado = regressao.predict(y_validacao)"
   ]
  },
  {
   "cell_type": "markdown",
   "metadata": {},
   "source": [
    "Apresentação de Resultados"
   ]
  },
  {
   "cell_type": "code",
   "execution_count": 24,
   "metadata": {},
   "outputs": [
    {
     "name": "stdout",
     "output_type": "stream",
     "text": [
      "Coeficientes:\n",
      " [ 4.6909163  -2.69967431 -0.2139194  -0.21672054 -1.7906237  -4.28216366\n",
      " -1.31902225 -0.90758193  0.30654686 -1.89244183 -0.90675374 -0.82954919\n",
      "  0.99380575  1.63785778  0.17587799  0.45986587 -1.18676546  4.04293939\n",
      "  0.67705876  1.12247158  0.09748756  0.3281867   0.5714965  -0.77648352\n",
      " -0.74874209  0.21273903  2.74441208  0.90286773 -1.06095348 -0.74604607\n",
      " -0.18516447 -0.82501561  0.11732787 -0.13819943  0.07160487  0.59503352\n",
      " -0.42331498 -0.61570323 -0.90508537 -1.86995056 -0.97049732 -0.37921544\n",
      " -0.8260189   0.18224651 -1.04548885 -0.84673902 -0.96952649 -1.66222612\n",
      " -0.26869166  0.30167084  1.01034703  0.54662852  0.81155724 -0.7554378\n",
      "  0.52300542  0.51757234 -1.68613936  0.74265965 -0.25842461  0.91413518\n",
      "  0.78492389  0.51592766  0.4736137  -0.03868932 -0.79863461 -0.19693858\n",
      "  1.01066559  0.11375514  0.17501625  0.370758   -0.11677443  0.33126193\n",
      "  1.61830249  0.27952612 -0.30004671  1.93752571  0.28047219 -0.8816193\n",
      " -0.22337751  0.98044471 -0.15243965  0.32516913 -0.91196848  0.93558952\n",
      "  1.62650206  0.09495157  0.43478526 -0.47960676  1.22156818 -0.60718731]\n",
      "Mean squared error: 132.27\n"
     ]
    }
   ],
   "source": [
    "print(\"Coeficientes:\\n\",regressao.coef_)\n",
    "print(\"Mean squared error: %.2f\" % mean_squared_error(x_validacao,resultado))"
   ]
  },
  {
   "cell_type": "code",
   "execution_count": null,
   "metadata": {},
   "outputs": [],
   "source": [
    "for i in range(len(resultado)):\n",
    "    print (str(math.floor(resultado[i])) + \" - \" + str(x_validacao[i]) + \" = \" + str(math.floor(resultado[i]) - x_validacao[i]))\n",
    "    "
   ]
  },
  {
   "cell_type": "markdown",
   "metadata": {},
   "source": [
    "Plotando o erro para cada dado"
   ]
  },
  {
   "cell_type": "code",
   "execution_count": 50,
   "metadata": {},
   "outputs": [
    {
     "data": {
      "text/plain": [
       "<matplotlib.text.Text at 0x7f4a4de54208>"
      ]
     },
     "execution_count": 50,
     "metadata": {},
     "output_type": "execute_result"
    }
   ],
   "source": [
    "#Criando indices\n",
    "indices = range(1,len(resultado)+1)\n",
    "erros = []\n",
    "for i in range(len(resultado)):\n",
    "    erros.append(math.fabs(resultado[i] - x_validacao[i]))\n",
    "plt.figure(figsize=(40,10))\n",
    "plt.plot(indices,erros)\n",
    "plt.xlabel(\"n. Dado\")\n",
    "plt.ylabel(\"Erro\")"
   ]
  },
  {
   "cell_type": "code",
   "execution_count": 52,
   "metadata": {},
   "outputs": [],
   "source": [
    "plt.show()"
   ]
  },
  {
   "cell_type": "markdown",
   "metadata": {},
   "source": [
    "class sklearn.linear_model.Ridge(alpha=1.0, fit_intercept=True, normalize=False, copy_X=True, max_iter=None, tol=0.001, solver=’auto’, random_state=None)\n",
    "\n",
    "Regressão com normalização"
   ]
  },
  {
   "cell_type": "code",
   "execution_count": 61,
   "metadata": {},
   "outputs": [
    {
     "data": {
      "text/plain": [
       "Ridge(alpha=0, copy_X=True, fit_intercept=True, max_iter=None,\n",
       "   normalize=False, random_state=None, solver='auto', tol=0.001)"
      ]
     },
     "execution_count": 61,
     "metadata": {},
     "output_type": "execute_result"
    }
   ],
   "source": [
    "ridge = sklearn.linear_model.Ridge(alpha=0)\n",
    "ridge.fit(y_treinamento,x_treinamento)"
   ]
  },
  {
   "cell_type": "code",
   "execution_count": 63,
   "metadata": {
    "collapsed": true
   },
   "outputs": [],
   "source": [
    "resultado2 = ridge.predict(y_validacao)"
   ]
  },
  {
   "cell_type": "code",
   "execution_count": 77,
   "metadata": {},
   "outputs": [
    {
     "data": {
      "text/plain": [
       "[<matplotlib.lines.Line2D at 0x7f4a4fbfa940>]"
      ]
     },
     "execution_count": 77,
     "metadata": {},
     "output_type": "execute_result"
    }
   ],
   "source": [
    "#Criando indices\n",
    "indices = range(1,len(resultado)+1)\n",
    "erros2 = []\n",
    "erros = []\n",
    "for i in range(len(resultado)):\n",
    "    erros.append(math.fabs(resultado[i] - x_validacao[i]))\n",
    "    erros2.append(math.fabs(resultado2[i] - x_validacao[i]))\n",
    "#print (len(erros),len(erros2))\n",
    "plt.plot(indices,erros)\n",
    "plt.plot(indices,erros2)\n"
   ]
  },
  {
   "cell_type": "markdown",
   "metadata": {},
   "source": [
    "for i in range(len(erros)):\n",
    "    print (erros[i],erros2[i])"
   ]
  }
 ],
 "metadata": {
  "kernelspec": {
   "display_name": "Python 3",
   "language": "python",
   "name": "python3"
  },
  "language_info": {
   "codemirror_mode": {
    "name": "ipython",
    "version": 3
   },
   "file_extension": ".py",
   "mimetype": "text/x-python",
   "name": "python",
   "nbconvert_exporter": "python",
   "pygments_lexer": "ipython3",
   "version": "3.6.2"
  }
 },
 "nbformat": 4,
 "nbformat_minor": 2
}
