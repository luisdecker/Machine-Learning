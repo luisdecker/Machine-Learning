{
 "cells": [
  {
   "cell_type": "code",
   "execution_count": null,
   "metadata": {},
   "outputs": [],
   "source": [
    "import PIL.Image as Image\n",
    "from sklearn.decomposition import PCA\n",
    "from sklearn.neural_network import MLPClassifier\n",
    "from sklearn.metrics import confusion_matrix\n",
    "#TODO\n",
    "images = [];\n",
    "#str(100).zfill(5)\n",
    "for i in range(0,50000):\n",
    "    imageIndex = str(i).zfill(5)\n",
    "    filename = './cifar-10/train/' + imageIndex + '.png'\n",
    "    imagem = Image.open(fp=filename)\n",
    "    pixels = imagem.load()\n",
    "    images.append(pixels)\n",
    "#TODO - Ler arquivo de labels e parear com images.\n",
    "labels = [line.rstrip('\\n') for line in open('./cifar-10/train/labels')]"
   ]
  },
  {
   "cell_type": "code",
   "execution_count": 10,
   "metadata": {
    "collapsed": true
   },
   "outputs": [],
   "source": [
    "pca = PCA(n_components=0.95)\n",
    "trainingSetSize_reduced = pca.fit_transform(trainingSetSize)"
   ]
  },
  {
   "cell_type": "code",
   "execution_count": 13,
   "metadata": {},
   "outputs": [
    {
     "ename": "NameError",
     "evalue": "name 'labels' is not defined",
     "output_type": "error",
     "traceback": [
      "\u001b[0;31m---------------------------------------------------------------------------\u001b[0m",
      "\u001b[0;31mNameError\u001b[0m                                 Traceback (most recent call last)",
      "\u001b[0;32m<ipython-input-13-00208ebcaae5>\u001b[0m in \u001b[0;36m<module>\u001b[0;34m()\u001b[0m\n\u001b[1;32m     12\u001b[0m                    learning_rate='adaptative')\n\u001b[1;32m     13\u001b[0m \u001b[0;34m\u001b[0m\u001b[0m\n\u001b[0;32m---> 14\u001b[0;31m \u001b[0mclf\u001b[0m\u001b[0;34m.\u001b[0m\u001b[0mfit\u001b[0m\u001b[0;34m(\u001b[0m\u001b[0mimages\u001b[0m\u001b[0;34m,\u001b[0m \u001b[0mlabels\u001b[0m\u001b[0;34m)\u001b[0m\u001b[0;34m\u001b[0m\u001b[0m\n\u001b[0m\u001b[1;32m     15\u001b[0m \u001b[0mclf\u001b[0m\u001b[0;34m.\u001b[0m\u001b[0mpredict\u001b[0m\u001b[0;34m(\u001b[0m\u001b[0mimages_validation\u001b[0m\u001b[0;34m)\u001b[0m\u001b[0;34m\u001b[0m\u001b[0m\n",
      "\u001b[0;31mNameError\u001b[0m: name 'labels' is not defined"
     ]
    }
   ],
   "source": [
    "#class sklearn.neural_network.MLPClassifier(hidden_layer_sizes=(100, ), \n",
    "#    activation=’relu’, solver=’adam’, alpha=0.0001, batch_size=’auto’, \n",
    "#    learning_rate=’constant’, learning_rate_init=0.001, power_t=0.5, \n",
    "#    max_iter=200, shuffle=True, random_state=None, tol=0.0001, verbose=False, \n",
    "#    warm_start=False, momentum=0.9, nesterovs_momentum=True, early_stopping=False, \n",
    "#    validation_fraction=0.1, beta_1=0.9, beta_2=0.999, epsilon=1e-08)[source] \n",
    "\n",
    "#1 camdada escondida\n",
    "\n",
    "clf = MLPClassifier(activation='logistic', solver='sgd', #alpha=1e-5,\n",
    "                    hidden_layer_sizes=(1,), random_state=1,\n",
    "                   learning_rate='adaptative')\n",
    "\n",
    "clf.fit(images, labels)\n",
    "clf.predict(images_validation)"
   ]
  },
  {
   "cell_type": "code",
   "execution_count": 12,
   "metadata": {
    "collapsed": true
   },
   "outputs": [],
   "source": []
  }
 ],
 "metadata": {
  "kernelspec": {
   "display_name": "Python 3",
   "language": "python",
   "name": "python3"
  },
  "language_info": {
   "codemirror_mode": {
    "name": "ipython",
    "version": 3
   },
   "file_extension": ".py",
   "mimetype": "text/x-python",
   "name": "python",
   "nbconvert_exporter": "python",
   "pygments_lexer": "ipython3",
   "version": "3.6.1"
  }
 },
 "nbformat": 4,
 "nbformat_minor": 2
}
