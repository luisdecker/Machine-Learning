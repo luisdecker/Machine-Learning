{
 "cells": [
  {
   "cell_type": "code",
   "execution_count": 2,
   "metadata": {
    "collapsed": true
   },
   "outputs": [],
   "source": [
    "import os"
   ]
  },
  {
   "cell_type": "code",
   "execution_count": 24,
   "metadata": {},
   "outputs": [
    {
     "name": "stdout",
     "output_type": "stream",
     "text": [
      "19393 files, 19445 files analised\n"
     ]
    }
   ],
   "source": [
    "i=0\n",
    "folder = \"docs\"\n",
    "results = open(file=\"Newsgroups.txt\",mode='w')\n",
    "all_groups = []\n",
    "for filename in os.listdir(\"../../Databases/documents/\" + folder):\n",
    "    #print(\"Document {}: [{}]\".format(i,filename))\n",
    "    i=i+1;\n",
    "    \n",
    "    #Open document\n",
    "    file = open(\"../../Databases/documents/{}/{}\".format(folder,filename))\n",
    "    fileLines = file.readlines()\n",
    "    #print (\"File {} with {} lines\".format(i,len(fileLines)))\n",
    "    for line in fileLines:\n",
    "        groups = []\n",
    "        if(line.startswith(\"Newsgroups:\")):\n",
    "            groups = line[len(\"Newsgroups: \"):].split(',')\n",
    "            #print(type(groups))\n",
    "            groups = [group.strip() for group in groups]\n",
    "            all_groups.append(groups)\n",
    "            #print(\"[{},{}]\".format(i,filename),groups[:],file=results)\n",
    "            #Now, groups has all the grous of all the i'th file\n",
    "print(\"{} files, {} files analised\".format(i,len(all_groups)))\n",
    "counter = {}\n",
    "for file in all_groups:\n",
    "    for word in file:\n",
    "        if word in counter.keys():\n",
    "            counter[word] = counter[word] + 1\n",
    "        else:\n",
    "            counter[word] = 1\n",
    "sorted_counter = sorted(counter.items(),key=lambda tup:(-tup[1],tup[0]))\n"
   ]
  }
 ],
 "metadata": {
  "kernelspec": {
   "display_name": "Python 3",
   "language": "python",
   "name": "python3"
  },
  "language_info": {
   "codemirror_mode": {
    "name": "ipython",
    "version": 3
   },
   "file_extension": ".py",
   "mimetype": "text/x-python",
   "name": "python",
   "nbconvert_exporter": "python",
   "pygments_lexer": "ipython3",
   "version": "3.6.3"
  }
 },
 "nbformat": 4,
 "nbformat_minor": 2
}
