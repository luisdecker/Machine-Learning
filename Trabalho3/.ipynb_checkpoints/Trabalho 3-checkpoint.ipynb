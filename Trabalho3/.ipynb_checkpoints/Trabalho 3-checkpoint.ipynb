{
 "cells": [
  {
   "cell_type": "markdown",
   "metadata": {},
   "source": [
    "# Terceiro Trabalho Prático\n",
    "## Clusterização e Redução de Dimensionalidade\n",
    "### Alunos\n",
    "#### Luis Gustavo Lorgus Decker\n",
    "#### Luiz Antonio Falaguasta Barbosa\n",
    "_____________________________________________________________"
   ]
  },
  {
   "cell_type": "markdown",
   "metadata": {},
   "source": [
    "    **Aqui carregamos os módulos utilizados**"
   ]
  },
  {
   "cell_type": "code",
   "execution_count": 1,
   "metadata": {},
   "outputs": [],
   "source": [
    "import os#Leitura de arquivos\n",
    "import numpy as np #Numérico\n",
    "import matplotlib.pyplot as plt #Plot de gráficos\n",
    "from sklearn.cluster import KMeans #K-Means\n",
    "from docOps import Document #Operações com documentos do banco de dados\n",
    "from kmeansbatch import KMeans_Batch #K-means em batch\n",
    "from sklearn import decomposition #Decomposição PCA\n",
    "\n"
   ]
  },
  {
   "cell_type": "markdown",
   "metadata": {},
   "source": [
    "#### Definição de algumas constantes / parâmetros de configuração"
   ]
  },
  {
   "cell_type": "code",
   "execution_count": 2,
   "metadata": {},
   "outputs": [
    {
     "name": "stdout",
     "output_type": "stream",
     "text": [
      "Constantes Definidas\n"
     ]
    }
   ],
   "source": [
    "init_method='random'\n",
    "num_inits = 4\n",
    "iterations = 100\n",
    "km_algorithm = 'full'\n",
    "\n",
    "apply_pca = not True\n",
    "save_results = False\n",
    "\n",
    "print (\"Constantes Definidas\")"
   ]
  },
  {
   "cell_type": "markdown",
   "metadata": {},
   "source": [
    "## Primeiro passo - Carregar os dados\n",
    "Aqui carregamos os dados oferecidos no dataset: a priori, somente os dados do *Bag of words* oferecido"
   ]
  },
  {
   "cell_type": "code",
   "execution_count": 3,
   "metadata": {},
   "outputs": [
    {
     "name": "stdout",
     "output_type": "stream",
     "text": [
      "Dados Carredados\n"
     ]
    }
   ],
   "source": [
    "#Caminho base para os dados\n",
    "base_path = \"../../Databases/documents/\"\n",
    "bow_path = base_path+\"data.csv\"#'test.csv'\n",
    "raw_data = np.genfromtxt(bow_path,delimiter=',',dtype=float)\n",
    "print (\"Dados Carredados\")"
   ]
  },
  {
   "cell_type": "markdown",
   "metadata": {},
   "source": [
    "#### Aplicamos o PCA nos dados"
   ]
  },
  {
   "cell_type": "code",
   "execution_count": 4,
   "metadata": {},
   "outputs": [],
   "source": [
    "if apply_pca:\n",
    "    preserved_variance = 0.80\n",
    "    pca = decomposition.PCA(n_components=preserved_variance,svd_solver='full')\n",
    "    raw_data = pca.fit(raw_data).transform(raw_data)"
   ]
  },
  {
   "cell_type": "code",
   "execution_count": 5,
   "metadata": {},
   "outputs": [
    {
     "name": "stdout",
     "output_type": "stream",
     "text": [
      "(19924, 2209)\n"
     ]
    }
   ],
   "source": [
    "print(raw_data.shape)"
   ]
  },
  {
   "cell_type": "markdown",
   "metadata": {},
   "source": [
    "Também carregamos o arquivo que lista o nome dos documentos associados com cada linha dos dados"
   ]
  },
  {
   "cell_type": "code",
   "execution_count": 6,
   "metadata": {},
   "outputs": [
    {
     "name": "stdout",
     "output_type": "stream",
     "text": [
      "Documentos Carregados\n"
     ]
    }
   ],
   "source": [
    "documents = []\n",
    "file = open(base_path + 'ids',).readlines()\n",
    "for doc in file:\n",
    "    documents.append(Document(base_path+'docs/'+doc.strip()))\n",
    "print (\"Documentos Carregados\")"
   ]
  },
  {
   "cell_type": "markdown",
   "metadata": {},
   "source": [
    "## Segundo passo - Aplicamos o **K-means**\n",
    "\n",
    "**n_clusters** = k\n",
    "\n",
    "**init** = metodo de inicialização. k-means++= metodo optimizado, random=aleatorio\n",
    "\n",
    "**n_init** = Numero de vezes que o algorítimo será executado com uma nova inicialização. O resultado final é o melhor entre eles, em termos de inércia\n",
    "\n",
    "**max_iter** = numero de iterações \n",
    "\n",
    "**tol** = Tolerância, em termos de inércia, para declarar convergência default: 1e-4\n",
    "\n",
    "**precompute_distances** = Pre-computa distâncias, trocando memória por tempo.\n",
    "\n",
    "**random_state** = Semente da inicialização (aleatória se não informada)\n",
    "\n",
    "**n_jobs** = numero de threads (execuções de cada n_init em paralelo). -1 significa todos os cores.\n",
    "\n",
    "**algorithm** = algorítimo a ser utilizado. full=clássico, elkan=otimizado para dados densos, auto=escolha automatica\n",
    "\n",
    "### Funcionamento\n",
    "    O algorítmo implementado executa o k-means para o k fornecido em run. Então, salva em um arquivo 1)Newsgroups do medoide de cada cluster 2)Newsgroups dos 10nn do centróide de cada cluster 3)Newsgroups de cada cluster"
   ]
  },
  {
   "cell_type": "code",
   "execution_count": 7,
   "metadata": {},
   "outputs": [
    {
     "name": "stdout",
     "output_type": "stream",
     "text": [
      "Iniciando KMeans [10]\n",
      "Terminado KMeans [10]\n",
      "Iniciando cálculo da silhueta [10]\n",
      "Iniciando KMeans [20]\n",
      "Terminado KMeans [20]\n",
      "Iniciando cálculo da silhueta [20]\n",
      "Iniciando KMeans [50]\n",
      "Terminado KMeans [50]\n",
      "Iniciando cálculo da silhueta [50]\n",
      "Iniciando KMeans [100]\n",
      "Terminado KMeans [100]\n",
      "Iniciando cálculo da silhueta [100]\n",
      "Iniciando KMeans [150]\n",
      "Terminado KMeans [150]\n",
      "Iniciando cálculo da silhueta [150]\n",
      "Iniciando KMeans [200]\n",
      "Terminado KMeans [200]\n",
      "Iniciando cálculo da silhueta [200]\n",
      "{10: 0.023230363452247108, 20: 0.032790000639598804, 50: 0.04422429925068954, 100: 0.055930918236267398, 150: 0.064850039679056365, 200: 0.063145967431860309}\n"
     ]
    }
   ],
   "source": [
    "#ks = [10,20,50,100,150,200]\n",
    "#ks = range(230,275,5)#t3_1 \n",
    "#ks=[100,150,200,250,300]#t1\n",
    "#ks=[1000,1200,1500]#Teste louco\n",
    "kmeans = KMeans_Batch(raw_data,init_method,num_inits,iterations,km_algorithm,documents,save_results=save_results)\n",
    "silhouettes = {}\n",
    "for k in ks:\n",
    "    silhouettes[k] = kmeans.run(k)\n",
    "print(silhouettes)"
   ]
  },
  {
   "cell_type": "markdown",
   "metadata": {},
   "source": [
    "___\n",
    "**Resultados 1**\n",
    "\n",
    "(150, 0.065901075236317844)\n",
    "\n",
    "(200, 0.064005912083537342)\n",
    "\n",
    "(100, 0.058124920215457808)\n",
    "\n",
    "(50, 0.050159900925201922)\n",
    "\n",
    "(20, 0.032874484829038313)\n",
    "\n",
    "(10, 0.023410728345313356)\n",
    "___\n",
    "**Resultados 2**\n",
    "\n",
    "(250, 0.067175993152435998) \n",
    "\n",
    "\n",
    "(180, 0.064737178131734824) \n",
    "\n",
    "\n",
    "(270, 0.063960202622142359) \n",
    "\n",
    "\n",
    "(260, 0.063818415234437501) \n",
    "\n",
    "\n",
    "(350, 0.06355984818376692) \n",
    "\n",
    "\n",
    "(150, 0.063290853428405611) \n",
    "\n",
    "\n",
    "(130, 0.063174884376862847) \n",
    "\n",
    "\n",
    "(300, 0.062826524778531803) \n",
    "\n",
    "\n",
    "(280, 0.062817231296686663) \n",
    "\n",
    "\n",
    "(120, 0.062601565673585227) \n",
    "\n",
    "\n",
    "(230, 0.062569053629366878) \n",
    "\n",
    "\n",
    "(200, 0.062505182098050865) \n",
    "\n",
    "\n",
    "(400, 0.062446070629031403) \n",
    "\n",
    "\n",
    "(240, 0.062435724492876606) \n",
    "\n",
    "\n",
    "(380, 0.062364726726237149) \n",
    "\n",
    "\n",
    "(170, 0.062295760304288308) \n",
    "\n",
    "\n",
    "(140, 0.062244771442363504) \n",
    "\n",
    "\n",
    "(220, 0.062219000866312858) \n",
    "\n",
    "\n",
    "(160, 0.062191107484290575) \n",
    "\n",
    "\n",
    "(290, 0.061986919343788034) \n",
    "\n",
    "\n",
    "(190, 0.061722293981546231) \n",
    "\n",
    "\n",
    "(320, 0.061364284724140683) \n",
    "\n",
    "\n",
    "(370, 0.059943988795201651) \n",
    "\n",
    "\n",
    "(100, 0.059831534520849987) \n",
    "\n",
    "\n",
    "(480, 0.059806183548651179) \n",
    "\n",
    "\n",
    "(330, 0.059765433879006111) \n",
    "\n",
    "\n",
    "(390, 0.059486741865446155) \n",
    "\n",
    "\n",
    "(310, 0.059431546309894688) \n",
    "\n",
    "\n",
    "(440, 0.059219563489335318) \n",
    "\n",
    "\n",
    "(210, 0.059006801104418978) \n",
    "\n",
    "\n",
    "(110, 0.058982969044130654) \n",
    "\n",
    "\n",
    "(460, 0.058952649045090899) \n",
    "\n",
    "\n",
    "(340, 0.058456000419489236) \n",
    "\n",
    "\n",
    "(420, 0.058281719137639146) \n",
    "\n",
    "\n",
    "(360, 0.058154644511951188) \n",
    "\n",
    "\n",
    "(450, 0.058120846854569426) \n",
    "\n",
    "\n",
    "(430, 0.056935837571916205) \n",
    "\n",
    "\n",
    "(410, 0.056717694204637167) \n",
    "\n",
    "\n",
    "(470, 0.055846073300595801) \n",
    "\n",
    "\n",
    "(490, 0.054828488007544987) \n",
    "\n",
    "\n",
    "(500, 0.051136256223188035) \n",
    "\n",
    "___\n",
    "**Resultados 3**\n",
    "\n",
    "___\n"
   ]
  },
  {
   "cell_type": "code",
   "execution_count": 8,
   "metadata": {},
   "outputs": [
    {
     "name": "stdout",
     "output_type": "stream",
     "text": [
      "(150, 0.064850039679056365) \n",
      "\n",
      "\n",
      "(200, 0.063145967431860309) \n",
      "\n",
      "\n",
      "(100, 0.055930918236267398) \n",
      "\n",
      "\n",
      "(50, 0.04422429925068954) \n",
      "\n",
      "\n",
      "(20, 0.032790000639598804) \n",
      "\n",
      "\n",
      "(10, 0.023230363452247108) \n",
      "\n",
      "\n"
     ]
    }
   ],
   "source": [
    "import operator\n",
    "srt = sorted(silhouettes.items(),key=operator.itemgetter(1),reverse=True)\n",
    "for i in srt:\n",
    "    print (i,\"\\n\\n\")"
   ]
  },
  {
   "cell_type": "code",
   "execution_count": 9,
   "metadata": {
    "scrolled": true
   },
   "outputs": [
    {
     "data": {
      "image/png": "[encoded data removed]",
      "text/plain": [
       "<matplotlib.figure.Figure at 0x7fb66442a6a0>"
      ]
     },
     "metadata": {},
     "output_type": "display_data"
    }
   ],
   "source": [
    "#Plots de gráficos\n",
    "from plotter import plotter\n",
    "plotdata=[]\n",
    "\n",
    "plotdata = srt\n",
    "plotdata = sorted(plotdata,key=lambda tup: tup[0])\n",
    "plotk=[]\n",
    "plots=[]\n",
    "for i in plotdata:\n",
    "    plotk.append(i[0])\n",
    "    plots.append(i[1])\n",
    "plotter.plot_silhouette(plotk,plots)"
   ]
  }
 ],
 "metadata": {
  "kernelspec": {
   "display_name": "Python 3",
   "language": "python",
   "name": "python3"
  },
  "language_info": {
   "codemirror_mode": {
    "name": "ipython",
    "version": 3
   },
   "file_extension": ".py",
   "mimetype": "text/x-python",
   "name": "python",
   "nbconvert_exporter": "python",
   "pygments_lexer": "ipython3",
   "version": "3.6.3"
  }
 },
 "nbformat": 4,
 "nbformat_minor": 2
}
