{
 "cells": [
  {
   "cell_type": "markdown",
   "metadata": {},
   "source": [
    "# Terceiro Trabalho Prático\n",
    "## Clusterização e Redução de Dimensionalidade\n",
    "### Alunos\n",
    "#### Luis Gustavo Lorgus Decker\n",
    "#### Luiz Antonio Falaguasta Barbosa\n",
    "_____________________________________________________________"
   ]
  },
  {
   "cell_type": "markdown",
   "metadata": {},
   "source": [
    "    **Aqui carregamos os módulos utilizados**"
   ]
  },
  {
   "cell_type": "code",
   "execution_count": 1,
   "metadata": {},
   "outputs": [],
   "source": [
    "import os\n",
    "import numpy as np\n",
    "import matplotlib.pyplot as plt\n",
    "from sklearn.cluster import KMeans\n",
    "from docOps import Document\n",
    "from kmeansbatch import KMeans_Batch\n"
   ]
  },
  {
   "cell_type": "markdown",
   "metadata": {},
   "source": [
    "#### Definição de algumas constantes / parâmetros de configuração"
   ]
  },
  {
   "cell_type": "code",
   "execution_count": 2,
   "metadata": {},
   "outputs": [],
   "source": [
    "init_method='random'\n",
    "num_inits = 10\n",
    "iterations = 100\n",
    "km_algorithm = 'full'"
   ]
  },
  {
   "cell_type": "markdown",
   "metadata": {},
   "source": [
    "## Primeiro passo - Carregar os dados\n",
    "Aqui carregamos os dados oferecidos no dataset: a priori, somente os dados do *Bag of words* oferecido"
   ]
  },
  {
   "cell_type": "code",
   "execution_count": 3,
   "metadata": {},
   "outputs": [],
   "source": [
    "#Caminho base para os dados\n",
    "base_path = \"../../Databases/documents/\"\n",
    "bow_path = base_path+'test.csv'#\"data.csv\"\n",
    "raw_data = np.genfromtxt(bow_path,delimiter=',',dtype=float)"
   ]
  },
  {
   "cell_type": "markdown",
   "metadata": {},
   "source": [
    "Também carregamos o arquivo que lista o nome dos documentos associados com cada linha dos dados"
   ]
  },
  {
   "cell_type": "code",
   "execution_count": 4,
   "metadata": {},
   "outputs": [],
   "source": [
    "documents = []\n",
    "file = open(base_path + 'ids',).readlines()\n",
    "for doc in file:\n",
    "    documents.append(Document(base_path+'docs/'+doc.strip()))\n"
   ]
  },
  {
   "cell_type": "markdown",
   "metadata": {},
   "source": [
    "## Segundo passo - Aplicamos o **K-means**\n",
    "\n",
    "**n_clusters** = k\n",
    "\n",
    "**init** = metodo de inicialização. k-means++= metodo optimizado, random=aleatorio\n",
    "\n",
    "**n_init** = Numero de vezes que o algorítimo será executado com uma nova inicialização. O resultado final é o melhor entre eles, em termos de inércia\n",
    "\n",
    "**max_iter** = numero de iterações \n",
    "\n",
    "**tol** = Tolerância, em termos de inércia, para declarar convergência default: 1e-4\n",
    "\n",
    "**precompute_distances** = Pre-computa distâncias, trocando memória por tempo.\n",
    "\n",
    "**random_state** = Semente da inicialização (aleatória se não informada)\n",
    "\n",
    "**n_jobs** = numero de threads (execuções de cada n_init em paralelo). -1 significa todos os cores.\n",
    "\n",
    "**algorithm** = algorítimo a ser utilizado. full=clássico, elkan=otimizado para dados densos, auto=escolha automatica\n",
    "\n",
    "### Funcionamento\n",
    "    O algorítmo implementado executa o k-means para o k fornecido em run. Então, salva em um arquivo 1)Newsgroups do medoide de cada cluster 2)Newsgroups dos 10nn do centróide de cada cluster 3)Newsgroups de cada cluster"
   ]
  },
  {
   "cell_type": "code",
   "execution_count": 5,
   "metadata": {},
   "outputs": [
    {
     "name": "stdout",
     "output_type": "stream",
     "text": [
      "{0: array([[  4, 463, 462, 120, 347,  31, 373, 310, 207,  29]]), 1: array([[ 64, 147, 156, 360, 302, 318, 465, 206, 103,  54]]), 2: array([[ 46,  94, 410, 357, 346, 121, 340,  84, 367,  32]]), 3: array([[ 22, 468, 384, 493, 486, 326, 392,  81, 248, 307]]), 4: array([[334, 258, 118, 222, 111, 303, 146, 201, 339, 289]]), 5: array([[101, 408, 179,  59, 114, 219, 220, 312, 198, 437]]), 6: array([[419, 275, 163, 277, 495, 251,  14, 246, 140, 256]]), 7: array([[142, 280, 336, 269, 353, 213, 236, 187, 371, 350]]), 8: array([[473, 313, 299, 494, 218, 376, 171,  52, 212, 162]]), 9: array([[372, 353, 142, 104, 422, 288, 280, 168,  67, 377]])}\n",
      "[  4 463 462 120 347  31 373 310 207  29]\n",
      "[ 64 147 156 360 302 318 465 206 103  54]\n",
      "[ 46  94 410 357 346 121 340  84 367  32]\n",
      "[ 22 468 384 493 486 326 392  81 248 307]\n",
      "[334 258 118 222 111 303 146 201 339 289]\n",
      "[101 408 179  59 114 219 220 312 198 437]\n",
      "[419 275 163 277 495 251  14 246 140 256]\n",
      "[142 280 336 269 353 213 236 187 371 350]\n",
      "[473 313 299 494 218 376 171  52 212 162]\n",
      "[372 353 142 104 422 288 280 168  67 377]\n"
     ]
    }
   ],
   "source": [
    "ks = [10,20,50,100,150,200]\n",
    "#ks = [10]\n",
    "kmeans = KMeans_Batch(raw_data,init_method,num_inits,iterations,km_algorithm,documents)\n",
    "for k in ks:\n",
    "    kmeans.run(k)"
   ]
  },
  {
   "cell_type": "markdown",
   "metadata": {},
   "source": [
    "# Zona (de testes)"
   ]
  },
  {
   "cell_type": "code",
   "execution_count": 6,
   "metadata": {},
   "outputs": [
    {
     "data": {
      "text/plain": [
       "KMeans(algorithm='full', copy_x=True, init='random', max_iter=100,\n",
       "    n_clusters=10, n_init=10, n_jobs=-1, precompute_distances=True,\n",
       "    random_state=None, tol=0.0001, verbose=0)"
      ]
     },
     "execution_count": 6,
     "metadata": {},
     "output_type": "execute_result"
    }
   ],
   "source": [
    "\n",
    "kmns = KMeans(\n",
    "            n_clusters=10,\n",
    "            n_jobs=-1,\n",
    "            init=init_method,\n",
    "            n_init=num_inits,\n",
    "            precompute_distances=True,\n",
    "            max_iter=iterations,\n",
    "            algorithm=km_algorithm)\n",
    "kmns.fit(raw_data)\n"
   ]
  },
  {
   "cell_type": "code",
   "execution_count": 7,
   "metadata": {},
   "outputs": [
    {
     "name": "stdout",
     "output_type": "stream",
     "text": [
      "(2209,)\n"
     ]
    },
    {
     "data": {
      "text/plain": [
       "array([430, 199, 351])"
      ]
     },
     "execution_count": 7,
     "metadata": {},
     "output_type": "execute_result"
    }
   ],
   "source": [
    "print((kmns.cluster_centers_[0]).shape)#tem tamanho correto\n",
    "kn = kmeans.knn(3,kmns.cluster_centers_[0])\n",
    "vizinhos = {}\n",
    "for i in range(10):\n",
    "    vizinhos[i]=kmeans.knn(3,kmns.cluster_centers_[i])\n",
    "vizinhos[0][0]"
   ]
  }
 ],
 "metadata": {
  "kernelspec": {
   "display_name": "Python 3",
   "language": "python",
   "name": "python3"
  },
  "language_info": {
   "codemirror_mode": {
    "name": "ipython",
    "version": 3
   },
   "file_extension": ".py",
   "mimetype": "text/x-python",
   "name": "python",
   "nbconvert_exporter": "python",
   "pygments_lexer": "ipython3",
   "version": "3.6.3"
  }
 },
 "nbformat": 4,
 "nbformat_minor": 2
}
