{
 "cells": [
  {
   "cell_type": "code",
   "execution_count": null,
   "metadata": {},
   "outputs": [],
   "source": [
    "import os\n",
    "import numpy as np\n",
    "import matplotlib.pyplot as plt\n",
    "from sklearn.cluster import KMeans\n",
    "from docOps import Document\n",
    "from sklearn.neighbors import NearestNeighbors"
   ]
  },
  {
   "cell_type": "code",
   "execution_count": null,
   "metadata": {},
   "outputs": [],
   "source": [
    "class KMeans_Batch:\n",
    "    def __init__(self,data,init_method,num_inits,iterations,km_alogirthm,docs):\n",
    "        #Configurações globais\n",
    "        self.raw_data = data\n",
    "        self.init_method = init_method\n",
    "        self.num_inits = num_inits\n",
    "        self.iterations = iterations\n",
    "        self.km_algorithm = km_algorithm\n",
    "        self.docs = docs\n",
    "        \n",
    "    def knn(self,k):\n",
    "        neigh = NearestNeighbors(n_neighbors=k,algorithm = ‘ball_tree’)\n",
    "        neigh.fit(self.raw_data)\n",
    "        return neigh.kneighbors\n",
    "\n",
    "    def run(self,k):\n",
    "        #Treinamos o k-means\n",
    "        kmeans = KMeans(\n",
    "            n_clusters=k,\n",
    "            n_jobs=-1,\n",
    "            init=self.init_method,\n",
    "            n_init=self.num_inits,\n",
    "            precompute_distances=True,\n",
    "            max_iter=self.iterations,\n",
    "            algorithm=self.km_algorithm)\n",
    "        kmeans.fit(self.raw_data)\n",
    "        #Separamos os documentos por classes\n",
    "        doc_classes = {}\n",
    "        file_index=0\n",
    "        for cluster in kmeans.labels_:\n",
    "            if cluster not in doc_classes.keys():\n",
    "                doc_classes[cluster] = []\n",
    "            doc_classes[cluster].append(documents[file_index])\n",
    "            file_index += 1\n",
    "        #Verificamos os 10 vizinhos mais próximos\n",
    "        \n",
    "        #Salvamos o resultado num arquivo\n",
    "        results = open(file=\"ResultsKnn\"+str(k)+\".txt\",mode='w')\n",
    "        for cluster in range(k):\n",
    "            print(\"\\n\\n================================================================================\\n\",file=results)\n",
    "            print(\"CLUSTER {}\\n\".format(cluster),file=results)\n",
    "            all_groups = set()\n",
    "            for doc in doc_classes[cluster]:\n",
    "                all_groups = all_groups.union(doc.groups)\n",
    "            print(all_groups,file=results)\n",
    "\n"
   ]
  }
 ],
 "metadata": {
  "kernelspec": {
   "display_name": "Python 3",
   "language": "python",
   "name": "python3"
  },
  "language_info": {
   "codemirror_mode": {
    "name": "ipython",
    "version": 3
   },
   "file_extension": ".py",
   "mimetype": "text/x-python",
   "name": "python",
   "nbconvert_exporter": "python",
   "pygments_lexer": "ipython3",
   "version": "3.6.3"
  }
 },
 "nbformat": 4,
 "nbformat_minor": 2
}
