{
 "cells": [
  {
   "cell_type": "code",
   "execution_count": 6,
   "metadata": {},
   "outputs": [],
   "source": [
    "import os\n",
    "import matplotlib.pyplot as plt"
   ]
  },
  {
   "cell_type": "code",
   "execution_count": 8,
   "metadata": {},
   "outputs": [],
   "source": [
    "class plotter:\n",
    "    def plot_graph(dataX,dataY,labelX,labelY,title):\n",
    "        plt.rcParams[\"figure.figsize\"] = (10,5)\n",
    "        plt.plot(dataX, dataY, 'bx-')\n",
    "        plt.xlabel(labelX)\n",
    "        plt.ylabel(labelY)\n",
    "        plt.title(title)\n",
    "        plt.show()\n",
    "    def plot_silhouette(K,silhouette):\n",
    "        plotter.plot_graph(K,silhouette,\"K\",\"Silhueta\",\"Coeficiente de Silhueta\")\n",
    "\n"
   ]
  }
 ],
 "metadata": {
  "kernelspec": {
   "display_name": "Python 3",
   "language": "python",
   "name": "python3"
  },
  "language_info": {
   "codemirror_mode": {
    "name": "ipython",
    "version": 3
   },
   "file_extension": ".py",
   "mimetype": "text/x-python",
   "name": "python",
   "nbconvert_exporter": "python",
   "pygments_lexer": "ipython3",
   "version": "3.6.3"
  }
 },
 "nbformat": 4,
 "nbformat_minor": 2
}
