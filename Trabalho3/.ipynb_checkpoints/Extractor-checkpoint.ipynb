{
 "cells": [
  {
   "cell_type": "code",
   "execution_count": 1,
   "metadata": {
    "collapsed": true
   },
   "outputs": [],
   "source": [
    "import os"
   ]
  },
  {
   "cell_type": "code",
   "execution_count": 14,
   "metadata": {},
   "outputs": [
    {
     "name": "stdout",
     "output_type": "stream",
     "text": [
      "1 ['sci.electronics']\n",
      "2 ['talk.politics.mideast']\n",
      "3 ['talk.abortion', 'talk.politics.misc']\n",
      "4 ['talk.politics.guns']\n"
     ]
    }
   ],
   "source": [
    "i=0\n",
    "folder = \"docs\"\n",
    "for filename in os.listdir(\"documents/\" + folder):\n",
    "    #print(\"Document {}: [{}]\".format(i,filename))\n",
    "    i=i+1;\n",
    "    \n",
    "    #Open document\n",
    "    file = open(\"documents/docs/{}\".format(filename))\n",
    "    fileLines = file.readlines()\n",
    "    #print (\"File {} with {} lines\".format(i,len(fileLines)))\n",
    "    for line in fileLines:\n",
    "        groups = []\n",
    "        if(line.startswith(\"Newsgroups:\")):\n",
    "            groups = line[len(\"Newsgroups: \"):].split(',')\n",
    "            #print(type(groups))\n",
    "            groups = [group.strip() for group in groups]\n",
    "            print(i,groups[:])"
   ]
  }
 ],
 "metadata": {
  "kernelspec": {
   "display_name": "Python 3",
   "language": "python",
   "name": "python3"
  },
  "language_info": {
   "codemirror_mode": {
    "name": "ipython",
    "version": 3
   },
   "file_extension": ".py",
   "mimetype": "text/x-python",
   "name": "python",
   "nbconvert_exporter": "python",
   "pygments_lexer": "ipython3",
   "version": "3.6.3"
  }
 },
 "nbformat": 4,
 "nbformat_minor": 2
}
